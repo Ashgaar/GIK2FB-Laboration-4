{
 "cells": [
  {
   "cell_type": "markdown",
   "metadata": {},
   "source": [
    "Imports"
   ]
  },
  {
   "cell_type": "code",
   "execution_count": 1372,
   "metadata": {},
   "outputs": [],
   "source": [
    "from random import shuffle\n",
    "from queue import PriorityQueue\n",
    "import numpy as np\n",
    "from typing import Protocol, Dict, List, Iterator, Tuple, TypeVar, Optional\n",
    "from __future__ import annotations\n",
    "import heapq"
   ]
  },
  {
   "cell_type": "markdown",
   "metadata": {},
   "source": [
    "The graph interface gets the neighbors for each graph location."
   ]
  },
  {
   "cell_type": "code",
   "execution_count": 1373,
   "metadata": {},
   "outputs": [],
   "source": [
    "T = TypeVar('T')\n",
    "Location = TypeVar('Location')\n",
    "class Graph(Protocol):\n",
    "    def neighbors(self, id: Location) -> List[Location]: pass"
   ]
  },
  {
   "cell_type": "markdown",
   "metadata": {},
   "source": [
    "Setting up a priority queue system for what nodes the algorithm should visit."
   ]
  },
  {
   "cell_type": "code",
   "execution_count": 1374,
   "metadata": {},
   "outputs": [],
   "source": [
    "class PriorityQueue:\n",
    "    def __init__(self):\n",
    "        self.elements: List[Tuple[float, T]] = []\n",
    "    \n",
    "    def empty(self) -> bool:\n",
    "        return not self.elements\n",
    "    \n",
    "    def put(self, item: T, priority: float):\n",
    "        heapq.heappush(self.elements, (priority, item))\n",
    "    \n",
    "    def get(self) -> T:\n",
    "        return heapq.heappop(self.elements)[1]"
   ]
  },
  {
   "cell_type": "markdown",
   "metadata": {},
   "source": [
    "Creating up a grid calculating neighbors in the neighbors function."
   ]
  },
  {
   "cell_type": "code",
   "execution_count": 1375,
   "metadata": {},
   "outputs": [],
   "source": [
    "GridLocation = Tuple[int, int]\n",
    "class SquareGrid:\n",
    "    def __init__(self, width: int, height: int):\n",
    "        self.width = width\n",
    "        self.height = height\n",
    "        self.walls: List[GridLocation] = []\n",
    "    \n",
    "    def in_bounds(self, id: GridLocation) -> bool:\n",
    "        (x, y) = id\n",
    "        return 0 <= x < self.width and 0 <= y < self.height\n",
    "    \n",
    "    def passable(self, id: GridLocation) -> bool:\n",
    "        return id not in self.walls\n",
    "    \n",
    "    def neighbors(self, id: GridLocation) -> Iterator[GridLocation]:\n",
    "        (x, y) = id\n",
    "        neighbors = [(x+1, y), (x-1, y), (x, y-1), (x, y+1)] # E W N S\n",
    "        # see \"Ugly paths\" section for an explanation:\n",
    "        if (x + y) % 2 == 0: neighbors.reverse() # S N W E\n",
    "        results = filter(self.in_bounds, neighbors)\n",
    "        results = filter(self.passable, results)\n",
    "        return results"
   ]
  },
  {
   "cell_type": "markdown",
   "metadata": {},
   "source": [
    "Interface for a weighted graph."
   ]
  },
  {
   "cell_type": "code",
   "execution_count": 1376,
   "metadata": {},
   "outputs": [],
   "source": [
    "class WeightedGraph(Graph):\n",
    "    def cost(self, from_id: Location, to_id: Location) -> float: pass"
   ]
  },
  {
   "cell_type": "markdown",
   "metadata": {},
   "source": [
    "Implementation of the interface with a grid. Weighted graphs adds a cost moving along an edge."
   ]
  },
  {
   "cell_type": "code",
   "execution_count": 1377,
   "metadata": {},
   "outputs": [],
   "source": [
    "class GridWithWeights(SquareGrid):\n",
    "    def __init__(self, width: int, height: int):\n",
    "        super().__init__(width, height)\n",
    "        self.weights: Dict[GridLocation, float] = {}\n",
    "    \n",
    "    def cost(self, from_node: GridLocation, to_node: GridLocation) -> float:\n",
    "        return self.weights.get(to_node, 1)"
   ]
  },
  {
   "cell_type": "markdown",
   "metadata": {},
   "source": [
    "Adds a heuristic. This gives us the sum of the absolute values the estimated distance to the goal and the goals distance to the start point. "
   ]
  },
  {
   "cell_type": "code",
   "execution_count": 1378,
   "metadata": {},
   "outputs": [],
   "source": [
    "def heuristic(a: GridLocation, b: GridLocation) -> float:\n",
    "    (x1, y1) = a\n",
    "    (x2, y2) = b\n",
    "    return abs(x1 - x2) + abs(y1 - y2)"
   ]
  },
  {
   "cell_type": "markdown",
   "metadata": {},
   "source": [
    "Draws the tiles and has a couple of different style choices."
   ]
  },
  {
   "cell_type": "code",
   "execution_count": 1379,
   "metadata": {},
   "outputs": [],
   "source": [
    "def draw_tile(graph, id, style):\n",
    "    r = \" . \"\n",
    "    if 'number' in style and id in style['number']: r = \" %-2d\" % style['number'][id]\n",
    "    if 'point_to' in style and style['point_to'].get(id, None) is not None:\n",
    "        (x1, y1) = id\n",
    "        (x2, y2) = style['point_to'][id]\n",
    "        if x2 == x1 + 1: r = \" > \"\n",
    "        if x2 == x1 - 1: r = \" < \"\n",
    "        if y2 == y1 + 1: r = \" v \"\n",
    "        if y2 == y1 - 1: r = \" ^ \"\n",
    "    if 'path' in style and id in style['path']:   r =\" @ \"\n",
    "    if 'start' in style and id == style['start']: r = \" S \"\n",
    "    if 'goal' in style and id == style['goal']:   r = \" G \"\n",
    "    if id in graph.walls: r = \"###\"\n",
    "    return r"
   ]
  },
  {
   "cell_type": "markdown",
   "metadata": {},
   "source": [
    "Draws the grids itself."
   ]
  },
  {
   "cell_type": "code",
   "execution_count": 1380,
   "metadata": {},
   "outputs": [],
   "source": [
    "def draw_grid(graph, **style):\n",
    "    print(\"___\" * graph.width)\n",
    "    for y in range(graph.height):\n",
    "        for x in range(graph.width):\n",
    "            print(\"%s\" % draw_tile(graph, (x, y), style), end=\"\")\n",
    "        print()\n",
    "    print(\"~~~\" * graph.width)"
   ]
  },
  {
   "cell_type": "markdown",
   "metadata": {},
   "source": [
    "Example diagram created to show the basic idea."
   ]
  },
  {
   "cell_type": "code",
   "execution_count": 1381,
   "metadata": {},
   "outputs": [],
   "source": [
    "diagram_example = GridWithWeights(10, 10)\n",
    "diagram_example.walls = [(1, 7), (1, 8), (2, 7), (2, 8), (3, 7), (3, 8)]\n",
    "diagram_example.weights = {loc: 5 for loc in [(3, 4), (3, 5), (4, 1), (4, 2),\n",
    "                                       (4, 3), (4, 4), (4, 5), (4, 6),\n",
    "                                       (4, 7), (4, 8), (5, 1), (5, 2),\n",
    "                                       (5, 3), (5, 4), (5, 5), (5, 6),\n",
    "                                       (5, 7), (5, 8), (6, 2), (6, 3),\n",
    "                                       (6, 4), (6, 5), (6, 6), (6, 7),\n",
    "                                       (7, 3), (7, 4), (7, 5)]}"
   ]
  },
  {
   "cell_type": "markdown",
   "metadata": {},
   "source": [
    "Shows the solution."
   ]
  },
  {
   "cell_type": "code",
   "execution_count": 1382,
   "metadata": {},
   "outputs": [],
   "source": [
    "def reconstruct_path(came_from: Dict[Location, Location],\n",
    "                     start: Location, goal: Location) -> List[Location]:\n",
    "    current: Location = goal\n",
    "    path: List[Location] = []\n",
    "    while current != start:\n",
    "        path.append(current)\n",
    "        current = came_from[current]\n",
    "    path.append(start) # optional\n",
    "    path.reverse() # optional\n",
    "    return path"
   ]
  },
  {
   "cell_type": "markdown",
   "metadata": {},
   "source": [
    "The a* algorithm itself."
   ]
  },
  {
   "cell_type": "code",
   "execution_count": 1383,
   "metadata": {},
   "outputs": [],
   "source": [
    "def a_star_search(graph: WeightedGraph, start: Location, goal: Location):\n",
    "    frontier = PriorityQueue()\n",
    "    frontier.put(start, 0)\n",
    "    came_from: Dict[Location, Optional[Location]] = {}\n",
    "    cost_so_far: Dict[Location, float] = {}\n",
    "    came_from[start] = None\n",
    "    cost_so_far[start] = 0\n",
    "    \n",
    "    while not frontier.empty():\n",
    "        current: Location = frontier.get()\n",
    "        \n",
    "        if current == goal:\n",
    "            break\n",
    "        \n",
    "        for next in graph.neighbors(current):\n",
    "            new_cost = cost_so_far[current] + graph.cost(current, next)\n",
    "            if next not in cost_so_far or new_cost < cost_so_far[next]:\n",
    "                cost_so_far[next] = new_cost\n",
    "                priority = new_cost + heuristic(next, goal)\n",
    "                frontier.put(next, priority)\n",
    "                came_from[next] = current\n",
    "    \n",
    "    return came_from, cost_so_far"
   ]
  },
  {
   "cell_type": "markdown",
   "metadata": {},
   "source": [
    "Example where you can see how the algorithm works when it is weighted. It will prefer the lowest cost."
   ]
  },
  {
   "cell_type": "code",
   "execution_count": 1384,
   "metadata": {},
   "outputs": [
    {
     "name": "stdout",
     "output_type": "stream",
     "text": [
      "______________________________\n",
      " .  .  .  .  .  .  .  .  .  . \n",
      " .  .  .  .  .  .  .  .  .  . \n",
      " .  .  .  .  .  .  .  .  .  . \n",
      " .  .  .  .  .  .  .  .  G  . \n",
      " .  S  .  .  .  .  .  .  .  . \n",
      " .  .  .  .  .  .  .  .  .  . \n",
      " .  .  .  .  .  .  .  .  .  . \n",
      " . ######### .  .  .  .  .  . \n",
      " . ######### .  .  .  .  .  . \n",
      " .  .  .  .  .  .  .  .  .  . \n",
      "~~~~~~~~~~~~~~~~~~~~~~~~~~~~~~\n",
      "\n",
      "______________________________\n",
      " v  v  v  v  <  <  <  <  <  < \n",
      " v  v  v  v  <  ^  ^  <  <  < \n",
      " v  v  v  v  <  <  ^  ^  <  < \n",
      " >  v  <  <  <  <  .  ^  G  . \n",
      " >  S  <  <  <  .  .  .  .  . \n",
      " ^  ^  ^  <  <  .  .  .  .  . \n",
      " ^  ^  ^  <  <  .  .  .  .  . \n",
      " ^ ######### .  .  .  .  .  . \n",
      " . ######### .  .  .  .  .  . \n",
      " .  .  .  .  .  .  .  .  .  . \n",
      "~~~~~~~~~~~~~~~~~~~~~~~~~~~~~~\n",
      "\n",
      "______________________________\n",
      " 5  4  5  6  7  8  9  10 11 12\n",
      " 4  3  4  5  10 13 10 11 12 13\n",
      " 3  2  3  4  9  14 15 12 13 14\n",
      " 2  1  2  3  8  13 .  17 G  . \n",
      " 1  S  1  6  11 .  .  .  .  . \n",
      " 2  1  2  7  12 .  .  .  .  . \n",
      " 3  2  3  4  9  .  .  .  .  . \n",
      " 4 ######### .  .  .  .  .  . \n",
      " . ######### .  .  .  .  .  . \n",
      " .  .  .  .  .  .  .  .  .  . \n",
      "~~~~~~~~~~~~~~~~~~~~~~~~~~~~~~\n",
      "\n",
      "______________________________\n",
      " .  .  .  @  @  @  @  .  .  . \n",
      " .  .  .  @  .  .  @  @  .  . \n",
      " .  .  .  @  .  .  .  @  @  . \n",
      " .  @  @  @  .  .  .  .  @  . \n",
      " .  @  .  .  .  .  .  .  .  . \n",
      " .  .  .  .  .  .  .  .  .  . \n",
      " .  .  .  .  .  .  .  .  .  . \n",
      " . ######### .  .  .  .  .  . \n",
      " . ######### .  .  .  .  .  . \n",
      " .  .  .  .  .  .  .  .  .  . \n",
      "~~~~~~~~~~~~~~~~~~~~~~~~~~~~~~\n"
     ]
    }
   ],
   "source": [
    "start, goal = (1, 4), (8, 3)\n",
    "came_from, cost_so_far = a_star_search(diagram_example, start, goal)\n",
    "draw_grid(diagram_example, start=start, goal=goal)\n",
    "print()\n",
    "draw_grid(diagram_example, point_to=came_from, start=start, goal=goal)\n",
    "print()\n",
    "draw_grid(diagram_example, number=cost_so_far, start=start, goal=goal)\n",
    "print()\n",
    "draw_grid(diagram_example, path=reconstruct_path(came_from, start=start, goal=goal))"
   ]
  },
  {
   "cell_type": "markdown",
   "metadata": {},
   "source": [
    "Creating up a maze from the code we got on learn."
   ]
  },
  {
   "cell_type": "code",
   "execution_count": 1385,
   "metadata": {},
   "outputs": [],
   "source": [
    "def make_maze(w = 50, h = 25):\n",
    "    vis = [[0] * w + [1] for _ in range(h)] + [[1] * (w + 1)]\n",
    "    ver = [[\"10\"] * w + ['1'] for _ in range(h)] + [[]]\n",
    "    hor = [[\"11\"] * w + ['1'] for _ in range(h + 1)]\n",
    " \n",
    "    def walk(x, y):\n",
    "        vis[y][x] = 1\n",
    " \n",
    "        d = [(x - 1, y), (x, y + 1), (x + 1, y), (x, y - 1)]\n",
    "        shuffle(d)\n",
    "        for (xx, yy) in d:\n",
    "            if vis[yy][xx]: continue\n",
    "            if xx == x: hor[max(y, yy)][x] = \"10\"\n",
    "            if yy == y: ver[y][max(x, xx)] = \"00\"\n",
    "            walk(xx, yy)\n",
    " \n",
    "    walk(np.random.randint(w), np.random.randint(h))\n",
    " \n",
    "    s = \"\"\n",
    "    for (a, b) in zip(hor, ver):\n",
    "        s += ''.join(a + ['\\n'] + b + ['\\n'])\n",
    "        \n",
    "    M=[]\n",
    "    for line in s.split(\"\\n\"):\n",
    "        if line!=\"\":\n",
    "            R=[]\n",
    "            for e in line:\n",
    "                R.append(int(e))\n",
    "            M.append(R)\n",
    "    return M\n",
    " \n",
    "maze= np.array(make_maze(5,5))\n"
   ]
  },
  {
   "cell_type": "markdown",
   "metadata": {},
   "source": [
    "Creating a function to reformat the maze."
   ]
  },
  {
   "cell_type": "code",
   "execution_count": 1386,
   "metadata": {},
   "outputs": [],
   "source": [
    "def format_maze(maze):\n",
    "    row = -1\n",
    "    wall = []\n",
    "    road = []\n",
    "    for i in maze:\n",
    "        row=row + 1\n",
    "        col = 0\n",
    "        for l in i:\n",
    "            if l == 1:\n",
    "                wall.append((row, col))\n",
    "                col = col+1\n",
    "            if l == 0:\n",
    "                road.append((row, col))\n",
    "                col = col+1\n",
    "    return wall, road"
   ]
  },
  {
   "cell_type": "markdown",
   "metadata": {},
   "source": [
    "Reformat the maze."
   ]
  },
  {
   "cell_type": "code",
   "execution_count": 1387,
   "metadata": {},
   "outputs": [],
   "source": [
    "wall = []\n",
    "road = []\n",
    "wall, road = format_maze(maze)"
   ]
  },
  {
   "cell_type": "markdown",
   "metadata": {},
   "source": [
    "Create a new diagram based on the maze we created."
   ]
  },
  {
   "cell_type": "code",
   "execution_count": 1388,
   "metadata": {},
   "outputs": [],
   "source": [
    "diagram = GridWithWeights(len(maze), len(maze))\n",
    "diagram.walls = wall\n",
    "diagram.weights = {loc: 5 for loc in road}"
   ]
  },
  {
   "cell_type": "markdown",
   "metadata": {},
   "source": [
    "Here we display the maze. As you can see first we display the maze"
   ]
  },
  {
   "cell_type": "code",
   "execution_count": 1389,
   "metadata": {},
   "outputs": [
    {
     "name": "stdout",
     "output_type": "stream",
     "text": [
      "Actual maze\n",
      "_________________________________\n",
      "#################################\n",
      "### S  .  . ### .  .  .  .  . ###\n",
      "### . ### . ######### . ### . ###\n",
      "### . ### .  .  . ### . ### . ###\n",
      "############### . ### . #########\n",
      "### .  .  .  .  . ### .  .  . ###\n",
      "### . ##################### . ###\n",
      "### .  .  . ### .  .  .  .  . ###\n",
      "######### . ######### . ### . ###\n",
      "### .  .  .  .  .  .  . ### G ###\n",
      "#################################\n",
      "~~~~~~~~~~~~~~~~~~~~~~~~~~~~~~~~~\n",
      "\n",
      "Maze pointing from goal to start, if you follow the arrows from G you will arrive to the start with the lowest path.\n",
      "_________________________________\n",
      "#################################\n",
      "### S  <  < ### .  .  .  .  . ###\n",
      "### ^ ### ^ ######### . ### . ###\n",
      "### ^ ### ^  <  < ### . ### . ###\n",
      "############### ^ ### . #########\n",
      "### >  >  >  >  ^ ### .  .  v ###\n",
      "### ^ ##################### v ###\n",
      "### ^  <  < ### >  >  v  <  < ###\n",
      "######### ^ ######### v ### ^ ###\n",
      "### >  >  ^  <  <  <  < ### G ###\n",
      "#################################\n",
      "~~~~~~~~~~~~~~~~~~~~~~~~~~~~~~~~~\n",
      "\n",
      "Maze using costs.\n",
      "_________________________________\n",
      "#################################\n",
      "### S  5  10### .  .  .  .  . ###\n",
      "### 5 ### 15######### . ### . ###\n",
      "### 10### 20 25 30### . ### . ###\n",
      "############### 35### . #########\n",
      "### 60 55 50 45 40### .  .  140###\n",
      "### 65##################### 135###\n",
      "### 70 75 80### 130 125 120 125 130###\n",
      "######### 85######### 115### 135###\n",
      "### 100 95 90 95 100 105 110### G ###\n",
      "#################################\n",
      "~~~~~~~~~~~~~~~~~~~~~~~~~~~~~~~~~\n",
      "\n",
      "Shortest path. This is the solution the algorithm has given us.\n",
      "_________________________________\n",
      "#################################\n",
      "### @  @  @ ### .  .  .  .  . ###\n",
      "### . ### @ ######### . ### . ###\n",
      "### . ### @  @  @ ### . ### . ###\n",
      "############### @ ### . #########\n",
      "### @  @  @  @  @ ### .  .  . ###\n",
      "### @ ##################### . ###\n",
      "### @  @  @ ### .  .  @  @  @ ###\n",
      "######### @ ######### @ ### @ ###\n",
      "### .  .  @  @  @  @  @ ### @ ###\n",
      "#################################\n",
      "~~~~~~~~~~~~~~~~~~~~~~~~~~~~~~~~~\n"
     ]
    }
   ],
   "source": [
    "start, goal = (1, 1), (9, 9)\n",
    "came_from, cost_so_far = a_star_search(diagram, start, goal)\n",
    "print(\"Actual maze\")\n",
    "draw_grid(diagram, start=start,goal=goal)\n",
    "print()\n",
    "print(\"Maze pointing from goal to start, if you follow the arrows from G you will arrive to the start with the lowest path.\")\n",
    "draw_grid(diagram, point_to=came_from, start=start, goal=goal)\n",
    "print()\n",
    "print(\"Maze using costs.\")\n",
    "draw_grid(diagram, number=cost_so_far, start=start, goal=goal)\n",
    "print()\n",
    "print(\"Shortest path. This is the solution the algorithm has given us.\")\n",
    "draw_grid(diagram, path=reconstruct_path(came_from, start=start, goal=goal))"
   ]
  }
 ],
 "metadata": {
  "interpreter": {
   "hash": "50f6d2a62cba7b4a04446430090b226dedeaa4907ec121cb2dd7ff424b4ef9c0"
  },
  "kernelspec": {
   "display_name": "Python 3.10.0 64-bit",
   "language": "python",
   "name": "python3"
  },
  "language_info": {
   "codemirror_mode": {
    "name": "ipython",
    "version": 3
   },
   "file_extension": ".py",
   "mimetype": "text/x-python",
   "name": "python",
   "nbconvert_exporter": "python",
   "pygments_lexer": "ipython3",
   "version": "3.10.1"
  },
  "orig_nbformat": 4
 },
 "nbformat": 4,
 "nbformat_minor": 2
}
